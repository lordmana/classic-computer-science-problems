{
 "cells": [
  {
   "cell_type": "markdown",
   "metadata": {},
   "source": [
    "## The Fibonacci sequence\n",
    "**The Fibonacci sequence is a sequence of numbers such that any number, except for the first and the second, is the sum of the previous two:**\n",
    "\n",
    "*0, 1, 1, 2, 3, 5, 8, 13, 21, ...*\n",
    "\n",
    "It follows that to get the value of any Fibonacci number, n, in the sequence, one can use the formula\n",
    "\n",
    "> fib(n) = fib(n - 1) + fib(n - 2)\n",
    "\n",
    "The preceding formula for computing a number in the Fibonacci sequence is a form of pseudocode that can be trivially translated into a *recursive* Python function.\n",
    "\n",
    "`def fib1(n: int) -> int:`\n",
    "\n",
    "   `return fib1(n - 1) + fib1(n - 2)`\n",
    "\n",
    "If we try to execute *fib1()*, we generate an error:\n",
    "> RecursionError: maximum recursion depth exceeded\n",
    "\n",
    "This issue is that *fib1()* will fun forever without returning a final result. Every call to *fib1()* results in another two calls of *fin1()* with no end in sight.\n",
    "we call such a circumstance ***infinite recursion***, and it is analogous to an *infinite loop*."
   ]
  },
  {
   "cell_type": "markdown",
   "metadata": {},
   "source": [
    "### Utilizing base cases\n",
    "\n",
    "Notice that until you run *fib1()*, there is no indication from your Python environment that there is anything wrong with in. The reason for the infinite recursion is that we never specified a base case. In a recursive function, a base case serves as a stopping point.\n",
    "\n",
    "In that case of the Fibonacci function, we have natural base cases in the form of the special first two sequence values, 0 and 1. Neither 0 nor 1 is the sum of the previous two numbers in the sequence."
   ]
  },
  {
   "cell_type": "code",
   "execution_count": 5,
   "metadata": {},
   "outputs": [
    {
     "name": "stdout",
     "output_type": "stream",
     "text": [
      "1\n",
      "5\n",
      "55\n"
     ]
    }
   ],
   "source": [
    "def fib2(n: int) -> int:\n",
    "    if n < 2: # base case\n",
    "        return n\n",
    "    return fib2(n - 2) + fib2(n - 1) # recursive case\n",
    "\n",
    "print(fib2(1))\n",
    "print(fib2(5))\n",
    "print(fib2(10))"
   ]
  }
 ],
 "metadata": {
  "interpreter": {
   "hash": "916dbcbb3f70747c44a77c7bcd40155683ae19c65e1c03b4aa3499c5328201f1"
  },
  "kernelspec": {
   "display_name": "Python 3.8.10 64-bit",
   "language": "python",
   "name": "python3"
  },
  "language_info": {
   "codemirror_mode": {
    "name": "ipython",
    "version": 3
   },
   "file_extension": ".py",
   "mimetype": "text/x-python",
   "name": "python",
   "nbconvert_exporter": "python",
   "pygments_lexer": "ipython3",
   "version": "3.8.10"
  },
  "orig_nbformat": 4
 },
 "nbformat": 4,
 "nbformat_minor": 2
}
