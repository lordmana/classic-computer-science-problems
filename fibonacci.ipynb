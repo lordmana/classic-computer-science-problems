{
 "cells": [
  {
   "cell_type": "markdown",
   "metadata": {},
   "source": [
    "## The Fibonacci sequence\n",
    "**The Fibonacci sequence is a sequence of numbers such that any number, except for the first and the second, is the sum of the previous two:**\n",
    "\n",
    "*0, 1, 1, 2, 3, 5, 8, 13, 21, ...*\n",
    "\n",
    "It follows that to get the value of any Fibonacci number, n, in the sequence, one can use the formula\n",
    "\n",
    "> fib(n) = fib(n - 1) + fib(n - 2)\n",
    "\n",
    "The preceding formula for computing a number in the Fibonacci sequence is a form of pseudocode that can be trivially translated into a *recursive* Python function.\n",
    "\n",
    "`def fib1(n: int) -> int:`\n",
    "\n",
    "   `return fib1(n - 1) + fib1(n - 2)`\n",
    "\n",
    "If we try to execute *fib1()*, we generate an error:\n",
    "> RecursionError: maximum recursion depth exceeded\n",
    "\n",
    "This issue is that *fib1()* will fun forever without returning a final result. Every call to *fib1()* results in another two calls of *fin1()* with no end in sight.\n",
    "we call such a circumstance ***infinite recursion***, and it is analogous to an *infinite loop*."
   ]
  },
  {
   "cell_type": "markdown",
   "metadata": {},
   "source": [
    "### Utilizing base cases\n",
    "\n",
    "Notice that until you run *fib1()*, there is no indication from your Python environment that there is anything wrong with in. The reason for the infinite recursion is that we never specified a base case. In a recursive function, a base case serves as a stopping point.\n",
    "\n",
    "In that case of the Fibonacci function, we have natural base cases in the form of the special first two sequence values, 0 and 1. Neither 0 nor 1 is the sum of the previous two numbers in the sequence."
   ]
  },
  {
   "cell_type": "code",
   "execution_count": null,
   "metadata": {},
   "outputs": [],
   "source": [
    "def fib2(n: int) -> int:\n",
    "    if n < 2: # base case\n",
    "        return n\n",
    "    return fib2(n - 2) + fib2(n - 1) # recursive case\n",
    "\n",
    "print(fib2(0))\n",
    "print(fib2(1))\n",
    "print(fib2(3))\n",
    "print(fib2(4))\n",
    "print(fib2(5))\n",
    "print(fib2(10))\n",
    "print(fib2(15))\n",
    "print(fib2(20))"
   ]
  },
  {
   "cell_type": "markdown",
   "metadata": {},
   "source": [
    "If *fib2()* is called with a large number (e.g. 50), it will never finish executing! \n",
    "Every call to *fib2(n)* results in two more calls to *fib2()* by recursively calling *fib2(n - 1)* and *fib2(n - 2)*. In other words, the call tree grows exponentially.\n",
    "\n",
    "There are 9 calls to *fib2()* just to compute the 4th element! It gets worse. There are 177 calls to compute the element 10 and 21,891 calls to compute element 20."
   ]
  },
  {
   "cell_type": "markdown",
   "metadata": {},
   "source": [
    "### Memoization to the rescue ###\n",
    "\n",
    "***Memoization*** \n",
    "\n",
    ">is a technique in which you store the results of computational tasks when they are completed so that when you need them again, you can look them up instead of needing to copmpute them a sceond (millionth) time.\n",
    "\n",
    "(Donald Michie, a British computer scientist, coined the term memoization. ***Memo functions: a language feature with \"rote-learning\" properties - Edinburgh University, Department of Machine Intelligence and Perception, 1967.***)"
   ]
  },
  {
   "cell_type": "code",
   "execution_count": null,
   "metadata": {},
   "outputs": [],
   "source": [
    "# fib3.py\n",
    "\n",
    "from typing import Dict\n",
    "memo: dict() = {0: 0, 1: 1} # our base cases\n",
    "\n",
    "def fib3(n: int) -> int:\n",
    "    if n not in memo:\n",
    "        memo[n] = fib3(n - 1) + fib3(n - 2) # memoization\n",
    "    return memo[n]\n",
    "\n",
    "print(fib3(0))\n",
    "print(fib3(5))\n",
    "print(fib3(50))\n",
    "print(memo)"
   ]
  }
 ],
 "metadata": {
  "interpreter": {
   "hash": "916dbcbb3f70747c44a77c7bcd40155683ae19c65e1c03b4aa3499c5328201f1"
  },
  "kernelspec": {
   "display_name": "Python 3.8.10 64-bit",
   "language": "python",
   "name": "python3"
  },
  "language_info": {
   "codemirror_mode": {
    "name": "ipython",
    "version": 3
   },
   "file_extension": ".py",
   "mimetype": "text/x-python",
   "name": "python",
   "nbconvert_exporter": "python",
   "pygments_lexer": "ipython3",
   "version": "3.8.10"
  },
  "orig_nbformat": 4
 },
 "nbformat": 4,
 "nbformat_minor": 2
}
